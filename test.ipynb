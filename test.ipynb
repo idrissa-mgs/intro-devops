{
 "cells": [
  {
   "cell_type": "code",
   "execution_count": 1,
   "id": "1d5e483a-a1f7-4845-9195-34e90cca26e4",
   "metadata": {},
   "outputs": [
    {
     "name": "stderr",
     "output_type": "stream",
     "text": [
      "[*********************100%***********************]  1 of 1 completed"
     ]
    },
    {
     "name": "stdout",
     "output_type": "stream",
     "text": [
      "Price            Close        High         Low        Open    Volume\n",
      "Ticker            MSFT        MSFT        MSFT        MSFT      MSFT\n",
      "Date                                                                \n",
      "2023-01-03  236.183517  242.266045  234.034415  239.633899  25740000\n",
      "2023-01-04  225.852081  229.568624  222.756597  228.986992  50623400\n",
      "2023-01-05  219.158356  224.324075  218.616150  223.979031  39585600\n",
      "2023-01-06  221.741211  222.559446  216.240331  219.838579  43613600\n",
      "2023-01-09  223.900162  227.961764  223.200236  223.239662  27369800\n",
      "...                ...         ...         ...         ...       ...\n",
      "2023-12-22  372.543915  373.140659  370.684084  371.648813  17091100\n",
      "2023-12-26  372.623505  374.891110  371.469806  372.961653  12673100\n",
      "2023-12-27  372.036713  373.021322  370.783552  371.658773  14905400\n",
      "2023-12-28  373.240112  374.413691  372.126205  373.329619  14327000\n",
      "2023-12-29  373.996002  375.109909  371.449920  373.956211  18723000\n",
      "\n",
      "[250 rows x 5 columns]\n"
     ]
    },
    {
     "name": "stderr",
     "output_type": "stream",
     "text": [
      "\n"
     ]
    }
   ],
   "source": [
    "import yfinance as yf\n",
    "import pandas as pd\n",
    "\n",
    "def recuperer_donnees_yahoo_finance(ticker, debut, fin):\n",
    "  \"\"\"\n",
    "  Récupère les données de séries temporelles de Yahoo Finance.\n",
    "\n",
    "  Args:\n",
    "    ticker: Le symbole du ticker de l'action (par exemple, \"AAPL\" pour Apple).\n",
    "    debut: La date de début au format \"YYYY-MM-DD\".\n",
    "    fin: La date de fin au format \"YYYY-MM-DD\".\n",
    "\n",
    "  Returns:\n",
    "    Un DataFrame pandas contenant les données de séries temporelles.\n",
    "  \"\"\"\n",
    "\n",
    "  donnees = yf.download(ticker, start=debut, end=fin)\n",
    "  return donnees\n",
    "\n",
    "# Exemple d'utilisation\n",
    "ticker = \"MSFT\"  # Microsoft\n",
    "debut = \"2023-01-01\"\n",
    "fin = \"2023-12-31\"\n",
    "\n",
    "donnees = recuperer_donnees_yahoo_finance(ticker, debut, fin)\n",
    "print(donnees)\n",
    "\n",
    "# Enregistrer les données dans un fichier CSV\n",
    "donnees.to_csv(\"msft_series_temporelles.csv\")"
   ]
  },
  {
   "cell_type": "code",
   "execution_count": null,
   "id": "b36e968f-5869-43d9-9f0a-68f4fbe0ab9d",
   "metadata": {},
   "outputs": [],
   "source": []
  }
 ],
 "metadata": {
  "kernelspec": {
   "display_name": "Python 3 (ipykernel)",
   "language": "python",
   "name": "python3"
  },
  "language_info": {
   "codemirror_mode": {
    "name": "ipython",
    "version": 3
   },
   "file_extension": ".py",
   "mimetype": "text/x-python",
   "name": "python",
   "nbconvert_exporter": "python",
   "pygments_lexer": "ipython3",
   "version": "3.12.8"
  }
 },
 "nbformat": 4,
 "nbformat_minor": 5
}
